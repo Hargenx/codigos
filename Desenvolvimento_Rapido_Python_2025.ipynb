{
 "cells": [
  {
   "cell_type": "markdown",
   "id": "5ed891b6",
   "metadata": {},
   "source": [
    "# Desenvolvimento Rápido de Aplicações em Python\n",
    "### Conversão das Apresentações (2025_05, 2025_06, 2025_07)\n",
    "**Prof. Raphael M. S. de Jesus**\n",
    "\n",
    "Este notebook reúne o conteúdo apresentado nas aulas sobre Python, bancos de dados, ORM e padrões de projeto.\n",
    "O material foi reorganizado de forma didática, com códigos funcionais e explicações mais detalhadas."
   ]
  },
  {
   "cell_type": "markdown",
   "id": "0ca29147",
   "metadata": {},
   "source": [
    "## Conectando a um Banco de Dados SQLite\n",
    "\n",
    "Para conectar a um banco de dados SQLite em Python, usamos o módulo `sqlite3`. Abaixo, um exemplo básico de como abrir a conexão."
   ]
  },
  {
   "cell_type": "code",
   "execution_count": null,
   "id": "bd957cfa",
   "metadata": {},
   "outputs": [],
   "source": [
    "import sqlite3\n",
    "\n",
    "conexao = sqlite3.connect('banco.sqlite')\n",
    "print(\"Conexão estabelecida com sucesso.\")\n",
    "conexao.close()"
   ]
  },
  {
   "cell_type": "markdown",
   "id": "03700053",
   "metadata": {},
   "source": [
    "## Criando Tabelas com SQLite\n",
    "\n",
    "Vamos agora criar as tabelas `Pessoa`, `Marca` e `Veiculo`. Usaremos comandos SQL executados via Python."
   ]
  },
  {
   "cell_type": "code",
   "execution_count": null,
   "id": "be2d8218",
   "metadata": {},
   "outputs": [],
   "source": [
    "def criar_tabela_pessoa(conn):\n",
    "    cursor = conn.cursor()\n",
    "    cursor.execute('''\n",
    "        CREATE TABLE IF NOT EXISTS Pessoa (\n",
    "            cpf INTEGER PRIMARY KEY,\n",
    "            nome TEXT NOT NULL,\n",
    "            nascimento DATE,\n",
    "            oculos BOOLEAN\n",
    "        )\n",
    "    ''')\n",
    "    conn.commit()"
   ]
  },
  {
   "cell_type": "markdown",
   "id": "a32c2147",
   "metadata": {},
   "source": [
    "A mesma lógica se aplica à criação das tabelas `Marca` e `Veiculo`. Lembre-se de incluir `FOREIGN KEY` para definir os relacionamentos entre as tabelas."
   ]
  }
 ],
 "metadata": {},
 "nbformat": 4,
 "nbformat_minor": 5
}