{
 "cells": [
  {
   "cell_type": "markdown",
   "id": "301d939c",
   "metadata": {},
   "source": [
    "# Desenvolvimento Rápido de Aplicações em Python\n",
    "### Conversão Completa das Apresentações (2025_05, 2025_06, 2025_07)\n",
    "**Prof. Raphael M. S. de Jesus**\n",
    "\n",
    "Este notebook reúne todo o conteúdo das aulas sobre Python com banco de dados SQLite, `dataclass`, uso de `logger`, ORM com SQLAlchemy, e conceitos de arquitetura como MVC.\n",
    "\n",
    "Além dos códigos funcionais, há explicações didáticas, desafios práticos ao final de cada seção e sugestões para modularização do projeto."
   ]
  },
  {
   "cell_type": "markdown",
   "id": "b6ffcd04",
   "metadata": {},
   "source": [
    "## 🔌 Seção 1: Conexão com o Banco de Dados SQLite\n",
    "\n",
    "Usamos o módulo `sqlite3` para criar e se conectar a um banco SQLite."
   ]
  },
  {
   "cell_type": "code",
   "execution_count": null,
   "id": "65916561",
   "metadata": {},
   "outputs": [],
   "source": [
    "import sqlite3\n",
    "\n",
    "def conectar_banco(nome_banco=\"banco.sqlite\"):\n",
    "    try:\n",
    "        conn = sqlite3.connect(nome_banco)\n",
    "        print(\"Conectado com sucesso.\")\n",
    "        return conn\n",
    "    except sqlite3.Error as e:\n",
    "        print(f\"Erro ao conectar: {e}\")"
   ]
  },
  {
   "cell_type": "markdown",
   "id": "01ef77cf",
   "metadata": {},
   "source": [
    "### 💡 Desafio:\n",
    "Crie uma função chamada `fechar_banco` que feche a conexão aberta."
   ]
  },
  {
   "cell_type": "markdown",
   "id": "c1b6392d",
   "metadata": {},
   "source": [
    "## 📦 Seção 2: Estruturando os Dados com `@dataclass`\n",
    "\n",
    "Vamos estruturar nossos dados com Python moderno e tipado."
   ]
  },
  {
   "cell_type": "code",
   "execution_count": null,
   "id": "3eccc29b",
   "metadata": {},
   "outputs": [],
   "source": [
    "from dataclasses import dataclass\n",
    "from datetime import date\n",
    "\n",
    "@dataclass\n",
    "class Pessoa:\n",
    "    cpf: int\n",
    "    nome: str\n",
    "    nascimento: date\n",
    "    oculos: bool"
   ]
  },
  {
   "cell_type": "code",
   "execution_count": null,
   "id": "3b6fae58",
   "metadata": {},
   "outputs": [],
   "source": [
    "@dataclass\n",
    "class Marca:\n",
    "    id: int\n",
    "    nome: str\n",
    "    sigla: str\n",
    "\n",
    "@dataclass\n",
    "class Veiculo:\n",
    "    placa: str\n",
    "    cor: str\n",
    "    proprietario: Pessoa\n",
    "    marca: Marca"
   ]
  },
  {
   "cell_type": "markdown",
   "id": "89719a37",
   "metadata": {},
   "source": [
    "### 💡 Desafio:\n",
    "Crie uma nova classe `Funcionario` com atributos como `matricula`, `nome`, `cargo` e `salario`."
   ]
  },
  {
   "cell_type": "markdown",
   "id": "781b1147",
   "metadata": {},
   "source": [
    "## 🧾 Seção 3: Registrando Eventos com `logger`\n",
    "\n",
    "Use `logging` no lugar de `print()` para rastrear eventos em produção."
   ]
  },
  {
   "cell_type": "code",
   "execution_count": null,
   "id": "48cf8501",
   "metadata": {},
   "outputs": [],
   "source": [
    "import logging\n",
    "\n",
    "logging.basicConfig(\n",
    "    filename=\"app.log\",\n",
    "    level=logging.INFO,\n",
    "    format=\"%(asctime)s - %(levelname)s - %(message)s\"\n",
    ")\n",
    "\n",
    "def log_info(msg): logging.info(msg)\n",
    "def log_error(msg): logging.error(msg)"
   ]
  },
  {
   "cell_type": "markdown",
   "id": "fec9c459",
   "metadata": {},
   "source": [
    "## 🛠️ Seção 4: CRUD com SQLite\n",
    "\n",
    "Criação, leitura, atualização e remoção de dados com segurança e boas práticas."
   ]
  },
  {
   "cell_type": "code",
   "execution_count": null,
   "id": "183e5fb8",
   "metadata": {},
   "outputs": [],
   "source": [
    "def criar_tabela_pessoa(conn):\n",
    "    try:\n",
    "        cursor = conn.cursor()\n",
    "        cursor.execute('''\n",
    "            CREATE TABLE IF NOT EXISTS Pessoa (\n",
    "                cpf INTEGER PRIMARY KEY,\n",
    "                nome TEXT NOT NULL,\n",
    "                nascimento DATE,\n",
    "                oculos BOOLEAN\n",
    "            )\n",
    "        ''')\n",
    "        conn.commit()\n",
    "        log_info(\"Tabela Pessoa criada.\")\n",
    "    except sqlite3.Error as e:\n",
    "        log_error(f\"Erro: {e}\")"
   ]
  },
  {
   "cell_type": "markdown",
   "id": "fd3ab604",
   "metadata": {},
   "source": [
    "### 💡 Desafio:\n",
    "Implemente as funções `inserir_pessoa`, `atualizar_pessoa`, `deletar_pessoa`, `buscar_todas_pessoas`."
   ]
  },
  {
   "cell_type": "markdown",
   "id": "ee5775ef",
   "metadata": {},
   "source": [
    "## 🧱 Seção 5: ORM com SQLAlchemy\n",
    "\n",
    "Abstração da base de dados com uma abordagem orientada a objetos."
   ]
  },
  {
   "cell_type": "code",
   "execution_count": null,
   "id": "048224cb",
   "metadata": {},
   "outputs": [],
   "source": [
    "from sqlalchemy import create_engine, Column, Integer, String\n",
    "from sqlalchemy.ext.declarative import declarative_base\n",
    "from sqlalchemy.orm import sessionmaker\n",
    "\n",
    "engine = create_engine('sqlite:///:memory:', echo=True)\n",
    "Base = declarative_base()\n",
    "\n",
    "class Usuario(Base):\n",
    "    __tablename__ = 'usuarios'\n",
    "    id = Column(Integer, primary_key=True)\n",
    "    nome = Column(String)\n",
    "    idade = Column(Integer)\n",
    "\n",
    "Base.metadata.create_all(engine)\n",
    "Session = sessionmaker(bind=engine)\n",
    "session = Session()\n",
    "\n",
    "session.add_all([\n",
    "    Usuario(nome=\"Raphael\", idade=40),\n",
    "    Usuario(nome=\"Carol\", idade=31)\n",
    "])\n",
    "session.commit()\n",
    "\n",
    "usuarios = session.query(Usuario).all()\n",
    "for u in usuarios:\n",
    "    print(u)"
   ]
  },
  {
   "cell_type": "markdown",
   "id": "1e4ad9ac",
   "metadata": {},
   "source": [
    "### 💡 Desafio:\n",
    "Implemente uma classe `Livro` com atributos `titulo`, `autor`, `ano` e `editora`."
   ]
  },
  {
   "cell_type": "markdown",
   "id": "7fa5d67e",
   "metadata": {},
   "source": [
    "## 🧩 Seção 6: Estruturação com Padrão MVC\n",
    "\n",
    "Vamos dividir nosso sistema em três partes:\n",
    "- `model.py`: classes e banco\n",
    "- `view.py`: entrada e saída\n",
    "- `controller.py`: lógica de negócio"
   ]
  },
  {
   "cell_type": "code",
   "execution_count": null,
   "id": "9a74463b",
   "metadata": {},
   "outputs": [],
   "source": [
    "# model.py\n",
    "@dataclass\n",
    "class Livro:\n",
    "    id: int\n",
    "    titulo: str\n",
    "    autor: str\n",
    "    ano: int"
   ]
  },
  {
   "cell_type": "code",
   "execution_count": null,
   "id": "19ea950f",
   "metadata": {},
   "outputs": [],
   "source": [
    "# controller.py\n",
    "class LivroController:\n",
    "    def __init__(self):\n",
    "        self.livros = []\n",
    "\n",
    "    def adicionar(self, livro: Livro):\n",
    "        self.livros.append(livro)\n",
    "\n",
    "    def listar(self):\n",
    "        return self.livros"
   ]
  },
  {
   "cell_type": "code",
   "execution_count": null,
   "id": "c0c7ca11",
   "metadata": {},
   "outputs": [],
   "source": [
    "# view.py\n",
    "def exibir_livros(livros):\n",
    "    for livro in livros:\n",
    "        print(f\"{livro.id} - {livro.titulo} ({livro.ano})\")"
   ]
  },
  {
   "cell_type": "markdown",
   "id": "5b7055e7",
   "metadata": {},
   "source": [
    "## ✅ Conclusão e Próximos Passos\n",
    "\n",
    "- Modularize seus projetos com MVC.\n",
    "- Use `dataclass` com tipagem forte.\n",
    "- Prefira `logger` a `print`.\n",
    "- Use `sqlite3` em projetos simples e `SQLAlchemy` em projetos complexos.\n",
    "\n",
    "### 📚 Desafio final:\n",
    "Implemente um pequeno sistema de cadastro de contatos (nome e telefone) usando `dataclass`, `sqlite3` e logger."
   ]
  }
 ],
 "metadata": {},
 "nbformat": 4,
 "nbformat_minor": 5
}