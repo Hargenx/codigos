{
 "cells": [
  {
   "cell_type": "markdown",
   "id": "fc2378e3",
   "metadata": {},
   "source": [
    "# Desenvolvimento Rápido de Aplicações em Python\n",
    "### Conversão das Apresentações (2025_05, 2025_06, 2025_07)\n",
    "**Prof. Raphael M. S. de Jesus**\n",
    "\n",
    "Este notebook reúne o conteúdo apresentado nas aulas sobre Python, banco de dados SQLite, uso de dataclass, ORM, logger e padrões de projeto.\n",
    "O material foi reorganizado de forma didática e profissional, com explicações completas e códigos funcionais."
   ]
  },
  {
   "cell_type": "markdown",
   "id": "09c059da",
   "metadata": {},
   "source": [
    "## Conectando ao Banco de Dados SQLite\n",
    "\n",
    "Para iniciar a interação com um banco de dados SQLite, usamos o módulo `sqlite3`.\n",
    "A seguir, um exemplo simples de como conectar-se a um banco e fechar a conexão."
   ]
  },
  {
   "cell_type": "code",
   "execution_count": null,
   "id": "f4e67744",
   "metadata": {},
   "outputs": [],
   "source": [
    "import sqlite3\n",
    "\n",
    "conexao = sqlite3.connect(\"banco.sqlite\")\n",
    "print(\"Conectado com sucesso.\")\n",
    "conexao.close()"
   ]
  },
  {
   "cell_type": "markdown",
   "id": "52d8891b",
   "metadata": {},
   "source": [
    "## Utilizando `@dataclass` para Modelagem de Dados\n",
    "\n",
    "O `dataclass` foi introduzido no Python 3.7 e facilita a criação de classes que armazenam dados. Ele automaticamente adiciona métodos especiais como `__init__`, `__repr__` e `__eq__`."
   ]
  },
  {
   "cell_type": "code",
   "execution_count": null,
   "id": "557e89d0",
   "metadata": {},
   "outputs": [],
   "source": [
    "from dataclasses import dataclass\n",
    "from datetime import date\n",
    "\n",
    "@dataclass\n",
    "class Pessoa:\n",
    "    cpf: int\n",
    "    nome: str\n",
    "    nascimento: date\n",
    "    oculos: bool"
   ]
  },
  {
   "cell_type": "code",
   "execution_count": null,
   "id": "aacd8255",
   "metadata": {},
   "outputs": [],
   "source": [
    "@dataclass\n",
    "class Marca:\n",
    "    id: int\n",
    "    nome: str\n",
    "    sigla: str"
   ]
  },
  {
   "cell_type": "code",
   "execution_count": null,
   "id": "4e3399da",
   "metadata": {},
   "outputs": [],
   "source": [
    "@dataclass\n",
    "class Veiculo:\n",
    "    placa: str\n",
    "    cor: str\n",
    "    proprietario: Pessoa\n",
    "    marca: Marca"
   ]
  },
  {
   "cell_type": "markdown",
   "id": "9068e45b",
   "metadata": {},
   "source": [
    "### Criando e exibindo objetos `Pessoa`, `Marca` e `Veiculo`:"
   ]
  },
  {
   "cell_type": "code",
   "execution_count": null,
   "id": "cfa980d9",
   "metadata": {},
   "outputs": [],
   "source": [
    "pessoa1 = Pessoa(cpf=12345678900, nome=\"Raphael\", nascimento=date(1984, 7, 26), oculos=True)\n",
    "marca1 = Marca(id=1, nome=\"Fiat\", sigla=\"FIA\")\n",
    "veiculo1 = Veiculo(placa=\"LRW1I27\", cor=\"Cinza\", proprietario=pessoa1, marca=marca1)\n",
    "\n",
    "print(pessoa1)\n",
    "print(marca1)\n",
    "print(veiculo1)"
   ]
  },
  {
   "cell_type": "markdown",
   "id": "6d03d7a9",
   "metadata": {},
   "source": [
    "## Criando Tabelas SQLite com Segurança"
   ]
  },
  {
   "cell_type": "code",
   "execution_count": null,
   "id": "2a07dbbd",
   "metadata": {},
   "outputs": [],
   "source": [
    "def criar_tabela_pessoa(conn):\n",
    "    try:\n",
    "        cursor = conn.cursor()\n",
    "        cursor.execute('''\n",
    "            CREATE TABLE IF NOT EXISTS Pessoa (\n",
    "                cpf INTEGER PRIMARY KEY,\n",
    "                nome TEXT NOT NULL,\n",
    "                nascimento DATE,\n",
    "                oculos BOOLEAN\n",
    "            )\n",
    "        ''')\n",
    "        conn.commit()\n",
    "        print(\"Tabela Pessoa criada com sucesso.\")\n",
    "    except sqlite3.Error as e:\n",
    "        print(f\"Erro ao criar tabela Pessoa: {e}\")"
   ]
  },
  {
   "cell_type": "markdown",
   "id": "d708c351",
   "metadata": {},
   "source": [
    "## Usando `logger` em vez de `print`\n",
    "\n",
    "Utilizar `logging` permite registrar erros com mais controle, incluindo data, tipo e mensagem."
   ]
  },
  {
   "cell_type": "code",
   "execution_count": null,
   "id": "4f526a8b",
   "metadata": {},
   "outputs": [],
   "source": [
    "import logging\n",
    "\n",
    "logging.basicConfig(\n",
    "    filename=\"app.log\",\n",
    "    level=logging.INFO,\n",
    "    format=\"%(asctime)s - %(levelname)s - %(message)s\"\n",
    ")\n",
    "\n",
    "def log_info(msg): logging.info(msg)\n",
    "def log_error(msg): logging.error(msg)"
   ]
  },
  {
   "cell_type": "markdown",
   "id": "ccdba4e0",
   "metadata": {},
   "source": [
    "### Inserindo uma Pessoa com logger"
   ]
  },
  {
   "cell_type": "code",
   "execution_count": null,
   "id": "d9fe3355",
   "metadata": {},
   "outputs": [],
   "source": [
    "def inserir_pessoa(conn, pessoa: Pessoa):\n",
    "    try:\n",
    "        cursor = conn.cursor()\n",
    "        cursor.execute(\n",
    "            \"INSERT INTO Pessoa VALUES (?, ?, ?, ?)\",\n",
    "            (pessoa.cpf, pessoa.nome, pessoa.nascimento.isoformat(), pessoa.oculos)\n",
    "        )\n",
    "        conn.commit()\n",
    "        log_info(\"Pessoa inserida com sucesso.\")\n",
    "    except sqlite3.Error as e:\n",
    "        log_error(f\"Erro ao inserir pessoa: {e}\")\n",
    "        raise"
   ]
  },
  {
   "cell_type": "markdown",
   "id": "8b3a960c",
   "metadata": {},
   "source": [
    "### Atualizando uma Pessoa com logger"
   ]
  },
  {
   "cell_type": "code",
   "execution_count": null,
   "id": "e5e4144a",
   "metadata": {},
   "outputs": [],
   "source": [
    "def atualizar_pessoa(conn, pessoa: Pessoa):\n",
    "    try:\n",
    "        cursor = conn.cursor()\n",
    "        cursor.execute('''\n",
    "            UPDATE Pessoa SET nome=?, nascimento=?, oculos=? WHERE cpf=?\n",
    "        ''', (pessoa.nome, pessoa.nascimento.isoformat(), pessoa.oculos, pessoa.cpf))\n",
    "        conn.commit()\n",
    "        log_info(\"Pessoa atualizada com sucesso.\")\n",
    "    except sqlite3.Error as e:\n",
    "        log_error(f\"Erro ao atualizar pessoa: {e}\")\n",
    "        raise"
   ]
  },
  {
   "cell_type": "markdown",
   "id": "d979be55",
   "metadata": {},
   "source": [
    "### Deletando uma Pessoa"
   ]
  },
  {
   "cell_type": "code",
   "execution_count": null,
   "id": "22265ae3",
   "metadata": {},
   "outputs": [],
   "source": [
    "def apagar_pessoa(conn, cpf: int):\n",
    "    try:\n",
    "        cursor = conn.cursor()\n",
    "        cursor.execute(\"DELETE FROM Pessoa WHERE cpf=?\", (cpf,))\n",
    "        conn.commit()\n",
    "        log_info(f\"Pessoa com CPF {cpf} deletada com sucesso.\")\n",
    "    except sqlite3.Error as e:\n",
    "        log_error(f\"Erro ao apagar pessoa: {e}\")\n",
    "        raise"
   ]
  },
  {
   "cell_type": "markdown",
   "id": "09e46c36",
   "metadata": {},
   "source": [
    "## Introdução ao SQLAlchemy (ORM)"
   ]
  },
  {
   "cell_type": "code",
   "execution_count": null,
   "id": "ca7b6aac",
   "metadata": {},
   "outputs": [],
   "source": [
    "from sqlalchemy import create_engine, Column, Integer, String\n",
    "from sqlalchemy.ext.declarative import declarative_base\n",
    "from sqlalchemy.orm import sessionmaker\n",
    "\n",
    "engine = create_engine('sqlite:///:memory:', echo=True)\n",
    "Base = declarative_base()\n",
    "\n",
    "class Usuario(Base):\n",
    "    __tablename__ = 'usuarios'\n",
    "    id = Column(Integer, primary_key=True)\n",
    "    nome = Column(String)\n",
    "    idade = Column(Integer)\n",
    "\n",
    "    def __repr__(self):\n",
    "        return f\"Usuario(id={self.id}, nome={self.nome}, idade={self.idade})\"\n",
    "\n",
    "Base.metadata.create_all(engine)\n",
    "Session = sessionmaker(bind=engine)\n",
    "session = Session()\n",
    "\n",
    "# Inserindo dados\n",
    "session.add(Usuario(nome=\"Raphael\", idade=40))\n",
    "session.commit()\n",
    "\n",
    "# Consulta\n",
    "usuarios = session.query(Usuario).all()\n",
    "for u in usuarios:\n",
    "    print(u)"
   ]
  },
  {
   "cell_type": "markdown",
   "id": "e3f9d2a7",
   "metadata": {},
   "source": [
    "## Conclusão\n",
    "\n",
    "Este material abordou os principais tópicos para o desenvolvimento rápido de aplicações com Python:\n",
    "\n",
    "- Uso de `dataclass` para modelagem de dados\n",
    "- Conexão com banco SQLite\n",
    "- Criação de tabelas e manipulação com segurança\n",
    "- Uso do `logger` para registrar eventos\n",
    "- Aplicação de um ORM (SQLAlchemy)\n",
    "\n",
    "📚 **Próximo passo sugerido**: modularizar o projeto com MVC, dividir código em arquivos como `model.py`, `controller.py`, `view.py` e aplicar os conceitos aprendidos."
   ]
  }
 ],
 "metadata": {},
 "nbformat": 4,
 "nbformat_minor": 5
}