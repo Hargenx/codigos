{
 "cells": [
  {
   "cell_type": "markdown",
   "id": "b4bb974c",
   "metadata": {},
   "source": [
    "# Desenvolvimento Rápido de Aplicações com Tkinter\n",
    "\n",
    "Este notebook é uma versão didática e interativa do conteúdo apresentado na aula de \"Desenvolvimento Rápido de Aplicações em Python\", com foco na criação de interfaces gráficas utilizando `tkinter`.\n",
    "\n",
    "---\n",
    "\n",
    "## 🧭 Objetivos:\n",
    "- Compreender os principais componentes da biblioteca `tkinter`\n",
    "- Criar interfaces gráficas básicas e intermediárias\n",
    "- Aprender boas práticas de organização de janelas e widgets\n",
    "- Modernizar o visual com `ttk` e estilos\n"
   ]
  },
  {
   "cell_type": "code",
   "execution_count": 1,
   "id": "2fd60a4c",
   "metadata": {},
   "outputs": [],
   "source": [
    "import tkinter as tk\n",
    "\n",
    "janela = tk.Tk()\n",
    "ola = tk.Label(text=\"Oi mamãe! 💓\")\n",
    "ola.pack()\n",
    "\n",
    "janela.mainloop()"
   ]
  },
  {
   "cell_type": "markdown",
   "id": "0c79728f",
   "metadata": {},
   "source": [
    "### 🌀 O que faz o `.mainloop()`?\n",
    "\n",
    "O método `mainloop()` inicia o loop de eventos da interface gráfica. Ele escuta interações como cliques ou digitação e mantém a janela aberta até que o usuário a feche. Nenhuma linha após ele será executada até que a janela seja encerrada.\n"
   ]
  },
  {
   "cell_type": "code",
   "execution_count": 2,
   "id": "83b387b0",
   "metadata": {},
   "outputs": [],
   "source": [
    "import tkinter as tk\n",
    "\n",
    "janela = tk.Tk()\n",
    "ola = tk.Label(text=\"Python é RAD!\")\n",
    "ola.pack()\n",
    "\n",
    "janela.mainloop()"
   ]
  }
 ],
 "metadata": {
  "kernelspec": {
   "display_name": "Python 3",
   "language": "python",
   "name": "python3"
  },
  "language_info": {
   "codemirror_mode": {
    "name": "ipython",
    "version": 3
   },
   "file_extension": ".py",
   "mimetype": "text/x-python",
   "name": "python",
   "nbconvert_exporter": "python",
   "pygments_lexer": "ipython3",
   "version": "3.12.10"
  }
 },
 "nbformat": 4,
 "nbformat_minor": 5
}
