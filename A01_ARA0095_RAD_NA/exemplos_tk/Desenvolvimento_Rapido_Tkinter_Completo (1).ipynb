{
 "cells": [
  {
   "cell_type": "markdown",
   "id": "41baa9ff",
   "metadata": {},
   "source": [
    "# Desenvolvimento Rápido de Aplicações com Tkinter"
   ]
  },
  {
   "cell_type": "markdown",
   "id": "89313ed9",
   "metadata": {},
   "source": [
    "## 🎨 Comparação com ttk e Estilo Moderno"
   ]
  },
  {
   "cell_type": "code",
   "execution_count": 1,
   "id": "5c96049d",
   "metadata": {},
   "outputs": [],
   "source": [
    "import tkinter as tk\n",
    "from tkinter import ttk\n",
    "\n",
    "root = tk.Tk()\n",
    "root.title(\"Estilo com ttk\")\n",
    "\n",
    "style = ttk.Style()\n",
    "style.theme_use(\"clam\")\n",
    "style.configure(\"TButton\", padding=10, font=(\"Arial\", 12, \"bold\"))\n",
    "\n",
    "ttk.Label(root, text=\"Nome:\").pack(pady=5)\n",
    "ttk.Entry(root).pack(pady=5)\n",
    "ttk.Button(root, text=\"Enviar\").pack(pady=10)\n",
    "\n",
    "root.mainloop()"
   ]
  },
  {
   "cell_type": "markdown",
   "id": "c6b6d5e2",
   "metadata": {},
   "source": [
    "## 📋 Mini CRUD com Entry e Listbox"
   ]
  },
  {
   "cell_type": "code",
   "execution_count": 2,
   "id": "54b06448",
   "metadata": {},
   "outputs": [],
   "source": [
    "import tkinter as tk\n",
    "\n",
    "class CRUDSimples:\n",
    "    def __init__(self, root):\n",
    "        self.root = root\n",
    "        self.root.title(\"Mini CRUD\")\n",
    "\n",
    "        self.nome_var = tk.StringVar()\n",
    "\n",
    "        tk.Label(root, text=\"Nome:\").pack()\n",
    "        self.entry = tk.Entry(root, textvariable=self.nome_var)\n",
    "        self.entry.pack()\n",
    "\n",
    "        self.listbox = tk.Listbox(root)\n",
    "        self.listbox.pack(pady=5)\n",
    "\n",
    "        btn_frame = tk.Frame(root)\n",
    "        btn_frame.pack()\n",
    "\n",
    "        tk.Button(btn_frame, text=\"Adicionar\", command=self.adicionar).pack(side=\"left\", padx=5)\n",
    "        tk.Button(btn_frame, text=\"Remover\", command=self.remover).pack(side=\"left\", padx=5)\n",
    "\n",
    "    def adicionar(self):\n",
    "        nome = self.nome_var.get().strip()\n",
    "        if nome:\n",
    "            self.listbox.insert(tk.END, nome)\n",
    "            self.nome_var.set(\"\")\n",
    "\n",
    "    def remover(self):\n",
    "        selecionado = self.listbox.curselection()\n",
    "        if selecionado:\n",
    "            self.listbox.delete(selecionado[0])\n",
    "\n",
    "root = tk.Tk()\n",
    "app = CRUDSimples(root)\n",
    "root.mainloop()"
   ]
  }
 ],
 "metadata": {
  "kernelspec": {
   "display_name": "Python 3",
   "language": "python",
   "name": "python3"
  },
  "language_info": {
   "codemirror_mode": {
    "name": "ipython",
    "version": 3
   },
   "file_extension": ".py",
   "mimetype": "text/x-python",
   "name": "python",
   "nbconvert_exporter": "python",
   "pygments_lexer": "ipython3",
   "version": "3.12.10"
  }
 },
 "nbformat": 4,
 "nbformat_minor": 5
}
