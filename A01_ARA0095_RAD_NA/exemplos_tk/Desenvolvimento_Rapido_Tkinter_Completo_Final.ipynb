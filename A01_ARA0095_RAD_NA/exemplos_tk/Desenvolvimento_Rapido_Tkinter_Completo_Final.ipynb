{
 "cells": [
  {
   "cell_type": "markdown",
   "id": "00944c68",
   "metadata": {},
   "source": [
    "# Desenvolvimento Rápido de Aplicações com Tkinter\n",
    "\n",
    "Este notebook é uma versão completa da aula prática com foco em criação de interfaces gráficas com `tkinter`.\n",
    "\n",
    "---\n",
    "\n",
    "## Objetivos:\n",
    "- Explorar os principais widgets (`Label`, `Button`, `Entry`, etc.)\n",
    "- Usar `pack`, `grid`, `place` para organização visual\n",
    "- Trabalhar com `Canvas`, menus e listas\n",
    "- Organizar interfaces com orientação a objetos\n",
    "- Aplicar estilos modernos com `ttk`\n",
    "- Desenvolver um mini projeto (CRUD simples)\n"
   ]
  },
  {
   "cell_type": "markdown",
   "id": "51a57af8",
   "metadata": {},
   "source": [
    "## Label"
   ]
  },
  {
   "cell_type": "code",
   "execution_count": null,
   "id": "73f01425",
   "metadata": {},
   "outputs": [],
   "source": [
    "import tkinter as tk\n",
    "root = tk.Tk()\n",
    "tk.Label(root, text=\"Olá, mundo!\", font=(\"Arial\", 16)).pack()\n",
    "root.mainloop()"
   ]
  },
  {
   "cell_type": "markdown",
   "id": "646e30c9",
   "metadata": {},
   "source": [
    "## Button"
   ]
  },
  {
   "cell_type": "code",
   "execution_count": null,
   "id": "b7323cb2",
   "metadata": {},
   "outputs": [],
   "source": [
    "import tkinter as tk\n",
    "def clique(): print(\"Botão clicado!\")\n",
    "root = tk.Tk()\n",
    "tk.Button(root, text=\"Clique aqui\", command=clique).pack()\n",
    "root.mainloop()"
   ]
  },
  {
   "cell_type": "markdown",
   "id": "eeaa2e56",
   "metadata": {},
   "source": [
    "## Entry"
   ]
  },
  {
   "cell_type": "code",
   "execution_count": null,
   "id": "f8c6f59f",
   "metadata": {},
   "outputs": [],
   "source": [
    "import tkinter as tk\n",
    "root = tk.Tk()\n",
    "entrada = tk.Entry(root)\n",
    "entrada.insert(0, \"Digite aqui\")\n",
    "entrada.pack()\n",
    "root.mainloop()"
   ]
  },
  {
   "cell_type": "markdown",
   "id": "23bf8358",
   "metadata": {},
   "source": [
    "## Text"
   ]
  },
  {
   "cell_type": "code",
   "execution_count": null,
   "id": "abe4d072",
   "metadata": {},
   "outputs": [],
   "source": [
    "import tkinter as tk\n",
    "root = tk.Tk()\n",
    "texto = tk.Text(root, height=5, width=40)\n",
    "texto.insert(\"1.0\", \"Texto com múltiplas linhas.\")\n",
    "texto.pack()\n",
    "root.mainloop()"
   ]
  },
  {
   "cell_type": "markdown",
   "id": "91a9fe2f",
   "metadata": {},
   "source": [
    "## Frame"
   ]
  },
  {
   "cell_type": "code",
   "execution_count": null,
   "id": "6b4c6018",
   "metadata": {},
   "outputs": [],
   "source": [
    "import tkinter as tk\n",
    "root = tk.Tk()\n",
    "frame = tk.Frame(root, borderwidth=2, relief=\"groove\")\n",
    "frame.pack(padx=10, pady=10)\n",
    "tk.Label(frame, text=\"Dentro do Frame\").pack()\n",
    "root.mainloop()"
   ]
  },
  {
   "cell_type": "markdown",
   "id": "cdd552d1",
   "metadata": {},
   "source": [
    "## Checkbutton"
   ]
  },
  {
   "cell_type": "code",
   "execution_count": null,
   "id": "9125f98f",
   "metadata": {},
   "outputs": [],
   "source": [
    "import tkinter as tk\n",
    "root = tk.Tk()\n",
    "var = tk.BooleanVar()\n",
    "tk.Checkbutton(root, text=\"Aceita os termos?\", variable=var).pack()\n",
    "root.mainloop()"
   ]
  },
  {
   "cell_type": "markdown",
   "id": "8ec432ba",
   "metadata": {},
   "source": [
    "## Canvas"
   ]
  },
  {
   "cell_type": "code",
   "execution_count": null,
   "id": "08ca9b80",
   "metadata": {},
   "outputs": [],
   "source": [
    "import tkinter as tk\n",
    "root = tk.Tk()\n",
    "canvas = tk.Canvas(root, width=200, height=100, bg=\"white\")\n",
    "canvas.create_rectangle(50, 25, 150, 75, fill=\"blue\")\n",
    "canvas.pack()\n",
    "root.mainloop()"
   ]
  },
  {
   "cell_type": "markdown",
   "id": "46576c44",
   "metadata": {},
   "source": [
    "## Menubutton"
   ]
  },
  {
   "cell_type": "code",
   "execution_count": null,
   "id": "b1bb8db9",
   "metadata": {},
   "outputs": [],
   "source": [
    "import tkinter as tk\n",
    "root = tk.Tk()\n",
    "mb = tk.Menubutton(root, text=\"Opções\", relief=tk.RAISED)\n",
    "mb.menu = tk.Menu(mb, tearoff=0)\n",
    "mb[\"menu\"] = mb.menu\n",
    "mb.menu.add_command(label=\"Item 1\")\n",
    "mb.menu.add_command(label=\"Item 2\")\n",
    "mb.pack()\n",
    "root.mainloop()"
   ]
  },
  {
   "cell_type": "markdown",
   "id": "bc4986c1",
   "metadata": {},
   "source": [
    "## Listbox"
   ]
  },
  {
   "cell_type": "code",
   "execution_count": null,
   "id": "f2f47b26",
   "metadata": {},
   "outputs": [],
   "source": [
    "import tkinter as tk\n",
    "root = tk.Tk()\n",
    "lista = tk.Listbox(root)\n",
    "for item in [\"Python\", \"Java\", \"C++\", \"JavaScript\"]:\n",
    "    lista.insert(tk.END, item)\n",
    "lista.pack()\n",
    "root.mainloop()"
   ]
  },
  {
   "cell_type": "markdown",
   "id": "d82110c1",
   "metadata": {},
   "source": [
    "## Menu"
   ]
  },
  {
   "cell_type": "code",
   "execution_count": null,
   "id": "27fdd93b",
   "metadata": {},
   "outputs": [],
   "source": [
    "import tkinter as tk\n",
    "def sair(): root.destroy()\n",
    "root = tk.Tk()\n",
    "menu_bar = tk.Menu(root)\n",
    "menu_arquivo = tk.Menu(menu_bar, tearoff=0)\n",
    "menu_arquivo.add_command(label=\"Sair\", command=sair)\n",
    "menu_bar.add_cascade(label=\"Arquivo\", menu=menu_arquivo)\n",
    "root.config(menu=menu_bar)\n",
    "root.mainloop()"
   ]
  },
  {
   "cell_type": "markdown",
   "id": "265e5f96",
   "metadata": {},
   "source": [
    "## 🧱 Gerenciadores de Layout"
   ]
  },
  {
   "cell_type": "code",
   "execution_count": null,
   "id": "e0abacae",
   "metadata": {},
   "outputs": [],
   "source": [
    "import tkinter as tk\n",
    "root = tk.Tk()\n",
    "tk.Label(root, text=\"Topo\").pack(side=\"top\")\n",
    "tk.Label(root, text=\"Esquerda\").pack(side=\"left\")\n",
    "tk.Label(root, text=\"Direita\").pack(side=\"right\")\n",
    "tk.Label(root, text=\"Fundo\").pack(side=\"bottom\")\n",
    "root.mainloop()"
   ]
  },
  {
   "cell_type": "code",
   "execution_count": null,
   "id": "2788d76a",
   "metadata": {},
   "outputs": [],
   "source": [
    "import tkinter as tk\n",
    "root = tk.Tk()\n",
    "for i in range(3):\n",
    "    for j in range(3):\n",
    "        tk.Label(root, text=f\"{i},{j}\", borderwidth=1, relief=\"solid\", width=10).grid(row=i, column=j, padx=5, pady=5)\n",
    "root.mainloop()"
   ]
  },
  {
   "cell_type": "code",
   "execution_count": null,
   "id": "002328d1",
   "metadata": {},
   "outputs": [],
   "source": [
    "import tkinter as tk\n",
    "root = tk.Tk()\n",
    "root.geometry(\"300x200\")\n",
    "tk.Label(root, text=\"(50, 50)\", bg=\"lightblue\").place(x=50, y=50)\n",
    "tk.Label(root, text=\"(150, 100)\", bg=\"lightgreen\").place(x=150, y=100)\n",
    "root.mainloop()"
   ]
  },
  {
   "cell_type": "markdown",
   "id": "1211e87d",
   "metadata": {},
   "source": [
    "## 🎯 Centralizar Janela"
   ]
  },
  {
   "cell_type": "code",
   "execution_count": null,
   "id": "466af6e0",
   "metadata": {},
   "outputs": [],
   "source": [
    "import tkinter as tk\n",
    "root = tk.Tk()\n",
    "largura, altura = 400, 200\n",
    "screen_w = root.winfo_screenwidth()\n",
    "screen_h = root.winfo_screenheight()\n",
    "x = (screen_w // 2) - (largura // 2)\n",
    "y = (screen_h // 2) - (altura // 2)\n",
    "root.geometry(f\"{largura}x{altura}+{x}+{y}\")\n",
    "tk.Label(root, text=\"Centralizado!\").pack(expand=True)\n",
    "root.mainloop()"
   ]
  },
  {
   "cell_type": "markdown",
   "id": "1ab4567d",
   "metadata": {},
   "source": [
    "## 🧱 Estrutura com Orientação a Objetos"
   ]
  },
  {
   "cell_type": "code",
   "execution_count": null,
   "id": "ecb0e19e",
   "metadata": {},
   "outputs": [],
   "source": [
    "import tkinter as tk\n",
    "class Aplicacao(tk.Tk):\n",
    "    def __init__(self):\n",
    "        super().__init__()\n",
    "        self.title(\"App com Classe\")\n",
    "        self.geometry(\"300x100\")\n",
    "        self.iniciar_interface()\n",
    "    def iniciar_interface(self):\n",
    "        tk.Label(self, text=\"Olá com OO!\").pack(pady=10)\n",
    "        tk.Button(self, text=\"Fechar\", command=self.destroy).pack()\n",
    "app = Aplicacao()\n",
    "app.mainloop()"
   ]
  },
  {
   "cell_type": "markdown",
   "id": "f49015a5",
   "metadata": {},
   "source": [
    "## 🎨 Comparação com ttk e Estilo Moderno"
   ]
  },
  {
   "cell_type": "code",
   "execution_count": 1,
   "id": "0a86979d",
   "metadata": {},
   "outputs": [],
   "source": [
    "import tkinter as tk\n",
    "from tkinter import ttk\n",
    "root = tk.Tk()\n",
    "root.title(\"Estilo com ttk\")\n",
    "style = ttk.Style()\n",
    "style.theme_use(\"clam\")\n",
    "style.configure(\"TButton\", padding=10, font=(\"Arial\", 12, \"bold\"))\n",
    "ttk.Label(root, text=\"Nome:\").pack(pady=5)\n",
    "ttk.Entry(root).pack(pady=5)\n",
    "ttk.Button(root, text=\"Enviar\").pack(pady=10)\n",
    "root.mainloop()"
   ]
  },
  {
   "cell_type": "markdown",
   "id": "33b4f8b0",
   "metadata": {},
   "source": [
    "## 📋 Mini CR com Entry e Listbox"
   ]
  },
  {
   "cell_type": "code",
   "execution_count": null,
   "id": "4b09c42e",
   "metadata": {},
   "outputs": [],
   "source": [
    "import tkinter as tk\n",
    "class CRUDSimples:\n",
    "    def __init__(self, root):\n",
    "        self.root = root\n",
    "        self.root.title(\"Mini CR\")\n",
    "        self.nome_var = tk.StringVar()\n",
    "        tk.Label(root, text=\"Nome:\").pack()\n",
    "        self.entry = tk.Entry(root, textvariable=self.nome_var)\n",
    "        self.entry.pack()\n",
    "        self.listbox = tk.Listbox(root)\n",
    "        self.listbox.pack(pady=5)\n",
    "        btn_frame = tk.Frame(root)\n",
    "        btn_frame.pack()\n",
    "        tk.Button(btn_frame, text=\"Adicionar\", command=self.adicionar).pack(side=\"left\", padx=5)\n",
    "        tk.Button(btn_frame, text=\"Remover\", command=self.remover).pack(side=\"left\", padx=5)\n",
    "    def adicionar(self):\n",
    "        nome = self.nome_var.get().strip()\n",
    "        if nome:\n",
    "            self.listbox.insert(tk.END, nome)\n",
    "            self.nome_var.set(\"\")\n",
    "    def remover(self):\n",
    "        selecionado = self.listbox.curselection()\n",
    "        if selecionado:\n",
    "            self.listbox.delete(selecionado[0])\n",
    "root = tk.Tk()\n",
    "app = CRUDSimples(root)\n",
    "root.mainloop()"
   ]
  }
 ],
 "metadata": {
  "kernelspec": {
   "display_name": "Python 3",
   "language": "python",
   "name": "python3"
  },
  "language_info": {
   "codemirror_mode": {
    "name": "ipython",
    "version": 3
   },
   "file_extension": ".py",
   "mimetype": "text/x-python",
   "name": "python",
   "nbconvert_exporter": "python",
   "pygments_lexer": "ipython3",
   "version": "3.12.10"
  }
 },
 "nbformat": 4,
 "nbformat_minor": 5
}
