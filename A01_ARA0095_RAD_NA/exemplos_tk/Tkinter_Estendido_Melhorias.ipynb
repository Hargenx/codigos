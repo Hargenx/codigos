{
 "cells": [
  {
   "cell_type": "markdown",
   "id": "ef5d344d",
   "metadata": {},
   "source": [
    "# 💡 Tkinter Moderno: Boas Práticas, UX/UI e Recursos Avançados\n",
    "\n",
    "Este notebook complementa sua apresentação de `Desenvolvimento Rápido de Aplicações com Tkinter`, focando em:\n",
    "\n",
    "1. ✅ Modernização visual (UX/UI)\n",
    "2. 🧠 Boas práticas de organização\n",
    "3. 📚 Recursos complementares úteis\n",
    "\n",
    "Inclui também:\n",
    "- Layout estilo **dashboard com abas (`ttk.Notebook`)**\n",
    "- Uso do método `.after()` para eventos temporizados\n"
   ]
  },
  {
   "cell_type": "markdown",
   "id": "632d723d",
   "metadata": {},
   "source": [
    "## 1. ✅ Modernização Visual com `ttk`"
   ]
  },
  {
   "cell_type": "code",
   "execution_count": 1,
   "id": "a8373964",
   "metadata": {},
   "outputs": [],
   "source": [
    "import tkinter as tk\n",
    "from tkinter import ttk\n",
    "\n",
    "root = tk.Tk()\n",
    "root.title(\"Interface Moderna\")\n",
    "style = ttk.Style()\n",
    "style.theme_use(\"clam\")\n",
    "style.configure(\"TButton\", font=(\"Segoe UI\", 10), padding=10)\n",
    "\n",
    "ttk.Label(root, text=\"Nome:\", font=(\"Segoe UI\", 10)).pack(pady=5)\n",
    "ttk.Entry(root).pack(pady=5)\n",
    "ttk.Button(root, text=\"Enviar\").pack(pady=10)\n",
    "\n",
    "root.mainloop()"
   ]
  },
  {
   "cell_type": "markdown",
   "id": "6b1150f3",
   "metadata": {},
   "source": [
    "## 2. 🧠 Boas Práticas com Orientação a Objetos"
   ]
  },
  {
   "cell_type": "code",
   "execution_count": 2,
   "id": "31974371",
   "metadata": {},
   "outputs": [
    {
     "name": "stdout",
     "output_type": "stream",
     "text": [
      "Entrada: AAAA\n"
     ]
    }
   ],
   "source": [
    "import tkinter as tk\n",
    "from tkinter import ttk\n",
    "\n",
    "class App(ttk.Frame):\n",
    "    def __init__(self, master):\n",
    "        super().__init__(master)\n",
    "        master.title(\"Exemplo OO\")\n",
    "        self.pack(padx=10, pady=10)\n",
    "        ttk.Label(self, text=\"Digite algo:\").pack()\n",
    "        self.entrada = ttk.Entry(self)\n",
    "        self.entrada.pack()\n",
    "        ttk.Button(self, text=\"Mostrar\", command=self.exibir).pack()\n",
    "\n",
    "    def exibir(self):\n",
    "        print(\"Entrada:\", self.entrada.get())\n",
    "\n",
    "root = tk.Tk()\n",
    "App(root)\n",
    "root.mainloop()"
   ]
  },
  {
   "cell_type": "markdown",
   "id": "c8374570",
   "metadata": {},
   "source": [
    "## 3. 📚 Complementar: Layout com `ttk.Notebook` (Abas)"
   ]
  },
  {
   "cell_type": "code",
   "execution_count": 3,
   "id": "1ef1a99f",
   "metadata": {},
   "outputs": [],
   "source": [
    "import tkinter as tk\n",
    "from tkinter import ttk\n",
    "\n",
    "root = tk.Tk()\n",
    "root.title(\"Dashboard com Abas\")\n",
    "\n",
    "notebook = ttk.Notebook(root)\n",
    "aba1 = ttk.Frame(notebook)\n",
    "aba2 = ttk.Frame(notebook)\n",
    "notebook.add(aba1, text='Principal')\n",
    "notebook.add(aba2, text='Sobre')\n",
    "notebook.pack(expand=True, fill='both')\n",
    "\n",
    "ttk.Label(aba1, text=\"Conteúdo da aba principal\").pack(padx=10, pady=10)\n",
    "ttk.Label(aba2, text=\"Informações sobre o sistema\").pack(padx=10, pady=10)\n",
    "\n",
    "root.mainloop()"
   ]
  },
  {
   "cell_type": "markdown",
   "id": "db44749f",
   "metadata": {},
   "source": [
    "## ⏱️ Uso de `.after()` para Atualização Temporizada"
   ]
  },
  {
   "cell_type": "code",
   "execution_count": null,
   "id": "411ee48e",
   "metadata": {},
   "outputs": [],
   "source": [
    "import tkinter as tk\n",
    "from datetime import datetime\n",
    "\n",
    "def atualizar_relogio():\n",
    "    agora = datetime.now().strftime(\"%H:%M:%S\")\n",
    "    label.config(text=agora)\n",
    "    root.after(1000, atualizar_relogio)  # agenda repetição\n",
    "\n",
    "root = tk.Tk()\n",
    "root.title(\"Relógio com after()\")\n",
    "label = tk.Label(root, font=(\"Consolas\", 32))\n",
    "label.pack(padx=20, pady=20)\n",
    "atualizar_relogio()\n",
    "root.mainloop()"
   ]
  }
 ],
 "metadata": {
  "kernelspec": {
   "display_name": "Python 3",
   "language": "python",
   "name": "python3"
  },
  "language_info": {
   "codemirror_mode": {
    "name": "ipython",
    "version": 3
   },
   "file_extension": ".py",
   "mimetype": "text/x-python",
   "name": "python",
   "nbconvert_exporter": "python",
   "pygments_lexer": "ipython3",
   "version": "3.12.10"
  }
 },
 "nbformat": 4,
 "nbformat_minor": 5
}
