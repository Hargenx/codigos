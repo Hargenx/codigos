{
 "cells": [
  {
   "cell_type": "markdown",
   "id": "36c68370",
   "metadata": {},
   "source": [
    "# Desenvolvimento Rápido de Aplicações com Tkinter\n",
    "\n",
    "Este notebook é uma versão didática e interativa do conteúdo apresentado na aula de \"Desenvolvimento Rápido de Aplicações em Python\", com foco na criação de interfaces gráficas utilizando `tkinter`.\n",
    "\n",
    "---\n",
    "\n",
    "## 🧭 Objetivos:\n",
    "- Compreender os principais componentes da biblioteca `tkinter`\n",
    "- Criar interfaces gráficas básicas e intermediárias\n",
    "- Aprender boas práticas de organização de janelas e widgets\n",
    "- Modernizar o visual com `ttk` e estilos\n"
   ]
  },
  {
   "cell_type": "code",
   "execution_count": null,
   "id": "00301db7",
   "metadata": {},
   "outputs": [],
   "source": [
    "import tkinter as tk\n",
    "\n",
    "janela = tk.Tk()\n",
    "ola = tk.Label(text=\"Oi mamãe! 💓\")\n",
    "ola.pack()\n",
    "\n",
    "janela.mainloop()"
   ]
  },
  {
   "cell_type": "markdown",
   "id": "85aee5e2",
   "metadata": {},
   "source": [
    "### 🌀 O que faz o `.mainloop()`?\n",
    "\n",
    "O método `mainloop()` inicia o loop de eventos da interface gráfica. Ele escuta interações como cliques ou digitação e mantém a janela aberta até que o usuário a feche. Nenhuma linha após ele será executada até que a janela seja encerrada.\n"
   ]
  },
  {
   "cell_type": "code",
   "execution_count": null,
   "id": "bcb914c5",
   "metadata": {},
   "outputs": [],
   "source": [
    "import tkinter as tk\n",
    "\n",
    "janela = tk.Tk()\n",
    "ola = tk.Label(text=\"Python é RAD!\")\n",
    "ola.pack()\n",
    "\n",
    "janela.mainloop()"
   ]
  },
  {
   "cell_type": "markdown",
   "id": "81644b05",
   "metadata": {},
   "source": [
    "## 🎨 Usando ttk para Widgets Modernos\n",
    "Vamos utilizar o `ttk` para criar componentes com aparência mais moderna. É importante lembrar que a janela principal sempre vem de `tk.Tk()`."
   ]
  },
  {
   "cell_type": "code",
   "execution_count": null,
   "id": "a9f8489c",
   "metadata": {},
   "outputs": [],
   "source": [
    "import tkinter as tk\n",
    "from tkinter import ttk\n",
    "\n",
    "root = tk.Tk()\n",
    "root.title(\"Exemplo com ttk\")\n",
    "\n",
    "# Aplicar tema moderno\n",
    "style = ttk.Style()\n",
    "style.theme_use(\"clam\")\n",
    "style.configure(\"TButton\",\n",
    "                background=\"green\",\n",
    "                foreground=\"white\",\n",
    "                padding=6,\n",
    "                font=(\"Helvetica\", 12, \"bold\"))\n",
    "\n",
    "# Criar botão estilizado\n",
    "botao = ttk.Button(root, text=\"Clique Aqui\")\n",
    "botao.pack(padx=20, pady=20)\n",
    "\n",
    "root.mainloop()"
   ]
  },
  {
   "cell_type": "markdown",
   "id": "c6f50696",
   "metadata": {},
   "source": [
    "## 📥 Entrada de Dados com Entry\n",
    "O widget `Entry` permite entrada de texto por parte do usuário."
   ]
  },
  {
   "cell_type": "code",
   "execution_count": 3,
   "id": "fb765dda",
   "metadata": {},
   "outputs": [],
   "source": [
    "import tkinter as tk\n",
    "\n",
    "janela = tk.Tk()\n",
    "janela.title(\"Entrada de Dados\")\n",
    "\n",
    "label = tk.Label(janela, text=\"Digite seu nome:\")\n",
    "label.pack()\n",
    "\n",
    "entrada = tk.Entry(janela, width=40)\n",
    "entrada.pack()\n",
    "entrada.insert(0, \"Digite o seu nome aqui!\")\n",
    "\n",
    "janela.mainloop()"
   ]
  },
  {
   "cell_type": "markdown",
   "id": "dd565894",
   "metadata": {},
   "source": [
    "## 🧠 Interação com Entry: FocusIn e FocusOut\n",
    "Podemos tornar a interface mais intuitiva limpando o campo ao clicar e restaurando o texto ao sair."
   ]
  },
  {
   "cell_type": "code",
   "execution_count": 2,
   "id": "df445545",
   "metadata": {},
   "outputs": [],
   "source": [
    "import tkinter as tk\n",
    "\n",
    "def ao_focar(event):\n",
    "    if entrada.get() == \"Digite o seu nome aqui!\":\n",
    "        entrada.delete(0, \"end\")\n",
    "        entrada.config(fg=\"black\")\n",
    "\n",
    "def ao_desfocar(event):\n",
    "    if not entrada.get():\n",
    "        entrada.insert(0, \"Digite o seu nome aqui!\")\n",
    "        entrada.config(fg=\"gray\")\n",
    "\n",
    "janela = tk.Tk()\n",
    "entrada = tk.Entry(janela, width=40, bg=\"white\", fg=\"gray\")\n",
    "entrada.insert(0, \"Digite o seu nome aqui!\")\n",
    "entrada.bind(\"<FocusIn>\", ao_focar)\n",
    "entrada.bind(\"<FocusOut>\", ao_desfocar)\n",
    "entrada.pack()\n",
    "\n",
    "janela.mainloop()"
   ]
  }
 ],
 "metadata": {
  "kernelspec": {
   "display_name": "Python 3",
   "language": "python",
   "name": "python3"
  },
  "language_info": {
   "codemirror_mode": {
    "name": "ipython",
    "version": 3
   },
   "file_extension": ".py",
   "mimetype": "text/x-python",
   "name": "python",
   "nbconvert_exporter": "python",
   "pygments_lexer": "ipython3",
   "version": "3.12.10"
  }
 },
 "nbformat": 4,
 "nbformat_minor": 5
}
